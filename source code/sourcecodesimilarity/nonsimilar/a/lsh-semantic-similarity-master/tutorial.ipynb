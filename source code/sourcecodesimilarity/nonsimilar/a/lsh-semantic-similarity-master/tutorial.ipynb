{
 "cells": [
  {
   "cell_type": "code",
   "execution_count": 1,
   "metadata": {},
   "outputs": [],
   "source": [
    "from random import randint\n",
    "from LSH import LSH\n",
    "from TFIDF import TFIDF"
   ]
  },
  {
   "cell_type": "code",
   "execution_count": 2,
   "metadata": {},
   "outputs": [],
   "source": [
    "texto0 = \"\"\"\n",
    "As escolas de todo o Brasil hoje cedo foram surpreendidas com o fato de o ministério público ter anunciado que não haverá \n",
    "as disciplinas de português e matemática.\n",
    "\"\"\".replace('\\n', ' ')\n",
    "\n",
    "texto1 = \"\"\"\n",
    "O ministério público anunciou hoje que não haverá as disciplinas de português e matemática. Todas as escolas do Brasil \n",
    "foram surpreendidas hoje cedo com esse fato.\n",
    "\"\"\".replace('\\n', ' ')\n",
    "\n",
    "texto2 = \"\"\"\n",
    "O Globo é um jornal diário de notícias brasileiro, fundado em 29 de julho de 1925 e sediado no Rio de Janeiro. \n",
    "De circulação nacional pela assinatura mensal nas formas impressa ou digital.\n",
    "\"\"\".replace('\\n', ' ')\n",
    "\n",
    "texto3 = \"\"\"\n",
    "Nas formas impressa ou digital, O Globo é um jornal diário de notícias brasileiro e têm circulação nacional pela \n",
    "assinatura mensal. É sediado no Rio de Janeiro e foi fundado em 29 de julho de 1925.\n",
    "\"\"\".replace('\\n', ' ')\n",
    "\n",
    "texto4 = \"\"\"\n",
    "no caminho da universidade pra casa tem uma pichação escrita \"Acorda e vem me ver\".\n",
    "Metade de mim: que lindo <3\n",
    "outra metade: podre. eu msm q n acordava. era so oq me faltava... eu interromper meu sono p ver gente.\n",
    "\"\"\".replace('\\n', ' ')\n",
    "\n",
    "texto5 = \"\"\"\n",
    "No caminho da casa para a universidade eu encontrei uma pichação escrita \"Acorda e vem me ver\".\n",
    "'Que lindo!', pensei comigo mesmo. Por outro lado, eu estava... \"Podre! Nunca que eu acordava. So faltava essa... \n",
    "Interromper o sono por causa de gente.\n",
    "\"\"\".replace('\\n', ' ')\n",
    "\n",
    "textos = [texto0, texto1, texto2, texto3, texto4, texto5]"
   ]
  },
  {
   "cell_type": "code",
   "execution_count": 3,
   "metadata": {},
   "outputs": [
    {
     "name": "stdout",
     "output_type": "stream",
     "text": [
      "[nltk_data] Downloading package rslp to /home/italohmb/nltk_data...\n",
      "[nltk_data]   Package rslp is already up-to-date!\n"
     ]
    }
   ],
   "source": [
    "lsh = LSH()\n",
    "similarity = lsh.get_similarity(textos, 'pt')"
   ]
  },
  {
   "cell_type": "code",
   "execution_count": null,
   "metadata": {},
   "outputs": [],
   "source": []
  },
  {
   "cell_type": "code",
   "execution_count": null,
   "metadata": {},
   "outputs": [],
   "source": []
  }
 ],
 "metadata": {
  "kernelspec": {
   "display_name": "Python 3",
   "language": "python",
   "name": "python3"
  },
  "language_info": {
   "codemirror_mode": {
    "name": "ipython",
    "version": 3
   },
   "file_extension": ".py",
   "mimetype": "text/x-python",
   "name": "python",
   "nbconvert_exporter": "python",
   "pygments_lexer": "ipython3",
   "version": "3.5.2"
  }
 },
 "nbformat": 4,
 "nbformat_minor": 2
}
